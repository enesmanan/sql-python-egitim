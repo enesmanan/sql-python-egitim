{
  "cells": [
    {
      "cell_type": "markdown",
      "metadata": {},
      "source": [
        "## SQL Temelleri\n"
      ]
    },
    {
      "cell_type": "markdown",
      "metadata": {},
      "source": [
        "### Veritabanı Nedir?\n",
        "\n",
        "<img src=\"assets/veritabani_nedir.png\" alt=\"VeriTabani\" width=\"700\"/>\n",
        "\n",
        "\n",
        "**Veritabanı (Database):** Yapılandırılmış verilerin depolandığı, yönetildiği ve sorgulandığı sistemlerdir.\n",
        "\n",
        "\n",
        "**Sektörel Kullanım:**\n",
        "- **E-ticaret**: Ürün kataloğu, müşteri verileri, sipariş yönetimi\n",
        "- **Finans**: İşlem kayıtları, hesap yönetimi, risk analizi\n",
        "- **Sağlık**: Hasta kayıtları, tedavi geçmişi, ilaç yönetimi\n",
        "- **Medya**: İçerik yönetimi, kullanıcı davranışları, öneri sistemleri\n"
      ]
    },
    {
      "cell_type": "markdown",
      "metadata": {},
      "source": [
        "### SQL (Structured Query Language)\n",
        "\n",
        "<img src=\"assets/sql_nedir.png\" alt=\"sql\" width=\"700\"/>\n",
        "\n",
        "İlişkisel veritabanlarıyla iletişim için kullanılan standart sorgulama dilidir.\n",
        "\n",
        "**Temel Kavramlar:**\n",
        "\n",
        "**İlişkisel (Relational):** Veriler tablolar halinde organize edilir ve bu tablolar birbirleriyle ilişkilendirilir.\n",
        "- Örnek: Müşteriler tablosu → Siparişler tablosu (her sipariş bir müşteriye ait)\n",
        "\n",
        "**Yapılandırılmış (Structured):** Her tablonun belirli kolonları ve veri tipleri vardır.\n",
        "- Örnek: `isim` (metin), `yas` (sayı), `kayit_tarihi` (tarih)\n",
        "\n",
        "**Primary Key (Birincil Anahtar):** Her satırı benzersiz şekilde tanımlayan kolon.\n",
        "- Örnek: `musteri_id = 12345` (sistemde tek bir müşteriyi işaret eder)\n",
        "\n",
        "**Foreign Key (Yabancı Anahtar):** Başka bir tablodaki primary key'e referans veren kolon.\n",
        "- Örnek: Siparişler tablosundaki `musteri_id`, Müşteriler tablosuna bağlanır\n"
      ]
    },
    {
      "cell_type": "markdown",
      "metadata": {},
      "source": [
        "### SQL vs NoSQL\n",
        "\n",
        "<img src=\"assets/sql_vs_nosql.png\" alt=\"sql\" width=\"700\"/>\n",
        "\n",
        "**SQL Veritabanları (İlişkisel):**\n",
        "- **Yapı:** Tablolar, satırlar, kolonlar (Excel gibi düşünün)\n",
        "- **Örnekler:** PostgreSQL, MySQL, Oracle, SQL Server, SQLite\n",
        "- **Kullanım:** Bankacılık, e-ticaret, ERP sistemleri, veri analitiği\n",
        "\n",
        "**NoSQL Veritabanları (İlişkisel Olmayan):**\n",
        "- **Yapı:** Esnek şema, JSON benzeri dökümanlar, key-value çiftleri\n",
        "- **Örnekler:** MongoDB (döküman), Redis (key-value), Cassandra (column-family), Neo4j (graph)\n",
        "- **Kullanım:** Sosyal medya, IoT, gerçek zamanlı uygulamalar, büyük veri\n"
      ]
    },
    {
      "cell_type": "markdown",
      "metadata": {},
      "source": [
        "### Veritabanı Bağlantısı\n",
        "\n",
        "**SQLite Nedir?**\n",
        "\n",
        "SQLite, en basit SQL veritabanı türüdür. Normal veritabanları sunucu gerektirir ama SQLite sadece bir dosyadır (`.db` uzantılı).\n",
        "\n",
        "**Neden SQLite?**\n",
        "- **Kolay:** Kurulum yok, tek dosya\n",
        "- **Taşınabilir:** Dosyayı kopyalayınca veritabanı taşınır\n",
        "- **Öğrenmeye Uygun:** SQL öğrenmek için mükemmel\n",
        "- **Gerçek:** Üretim sistemlerinde de kullanılır (mobil uygulamalar, tarayıcılar)\n",
        "\n",
        "**Diğer SQL Veritabanları:**\n",
        "- **PostgreSQL, MySQL:** Sunucu kurmak gerekir, daha güçlü ama karmaşık\n",
        "- **SQL Server, Oracle:** Kurumsal seviye, lisans gerekir\n",
        "\n",
        "**Jupyter'da SQL Kullanımı:**\n",
        "\n",
        "Jupyter Notebook'ta SQL kullanmak için özel komutlar:\n",
        "- `%load_ext sql` → SQL özelliğini aç\n",
        "- `%sql` → Tek satır SQL komutu\n",
        "- `%%sql` → Çok satırlı SQL sorgusu (hücrenin tamamı SQL olur)\n"
      ]
    },
    {
      "cell_type": "code",
      "execution_count": null,
      "metadata": {},
      "outputs": [],
      "source": [
        "%load_ext sql\n",
        "%sql sqlite:///data/ecommerce.db\n",
        "\n",
        "# Otomatik limit'i kaldır\n",
        "%config SqlMagic.displaylimit = None\n",
        "%config SqlMagic.autolimit = 0\n",
        "\n",
        "print(\"Bağlantı kuruldu: data/ecommerce.db\")\n"
      ]
    },
    {
      "cell_type": "markdown",
      "metadata": {},
      "source": [
        "### Veritabanı: E-Ticaret Sistemi\n",
        "\n",
        "Bu eğitimde gerçek bir e-ticaret şirketi veritabanı kullanacağız. 7 ana tablo var:\n",
        "\n",
        "**Tablolar:**\n",
        "- **`customers`** (müşteriler): Müşteri bilgileri (isim, şehir, segment, iletişim)\n",
        "- **`categories`** (kategoriler): Ürün kategorileri (hiyerarşik yapı - ana/alt kategori)\n",
        "- **`products`** (ürünler): Ürün kataloğu (isim, fiyat, marka, kategori)\n",
        "- **`orders`** (siparişler): Sipariş kayıtları (tarih, tutar, durum, ödeme yöntemi)\n",
        "- **`order_items`** (sipariş kalemleri): Siparişteki ürünler (miktar, birim fiyat, indirim)\n",
        "- **`reviews`** (yorumlar): Müşteri yorumları ve puanları\n",
        "- **`campaigns`** (kampanyalar): İndirim kampanyaları\n",
        "\n",
        "**Veri Seti:** ~5.000 müşteri, ~9.000 sipariş, 3.5 yıllık veri"
      ]
    },
    {
      "cell_type": "markdown",
      "metadata": {},
      "source": [
        "<img src=\"assets/db_diyagram.png\" alt=\"diyagram\" width=\"400\"/>\n"
      ]
    },
    {
      "cell_type": "markdown",
      "metadata": {},
      "source": [
        "## TEMEL SQL KOMUTLARI\n",
        "\n",
        "\n",
        "**Önemli Noktalar:**\n",
        "- Büyük tablolarda `LIMIT` kullanın\n",
        "- Query test ederken önce küçük veri seti ile çalışın\n",
        "- SQL'de `--` ile comment eklenebilir\n"
      ]
    },
    {
      "cell_type": "markdown",
      "metadata": {},
      "source": [
        "### SELECT - Tüm Verileri Getirme\n"
      ]
    },
    {
      "cell_type": "code",
      "execution_count": null,
      "metadata": {},
      "outputs": [],
      "source": [
        "%%sql\n",
        "\n",
        "SELECT * FROM customers\n",
        "limit 10\n"
      ]
    },
    {
      "cell_type": "markdown",
      "metadata": {},
      "source": [
        "### SELECT - Belirli Kolonları Getirme\n"
      ]
    },
    {
      "cell_type": "code",
      "execution_count": null,
      "metadata": {},
      "outputs": [],
      "source": [
        "%%sql\n",
        "\n",
        "SELECT first_name, last_name, city \n",
        "FROM customers\n",
        "\n",
        "LIMIT 10"
      ]
    },
    {
      "cell_type": "markdown",
      "metadata": {},
      "source": [
        "### DISTINCT - Tekrar Eden Kayıtları Kaldırma\n"
      ]
    },
    {
      "cell_type": "markdown",
      "metadata": {},
      "source": [
        "**DISTINCT** tekrar eden satırları kaldırır ve sadece benzersiz değerleri gösterir.\n",
        "\n",
        "**Kullanım Senaryoları:**\n",
        "- Hangi şehirlerde müşterimiz var?\n",
        "- Elimizde hangi markalar var?\n",
        "- Kaç farklı ödeme yöntemi kullanılıyor?\n"
      ]
    },
    {
      "cell_type": "code",
      "execution_count": null,
      "metadata": {},
      "outputs": [],
      "source": [
        "%%sql\n",
        "\n",
        "-- Hangi şehirlerde müşterimiz var?\n",
        "SELECT DISTINCT city \n",
        "FROM customers\n",
        "\n"
      ]
    },
    {
      "cell_type": "markdown",
      "metadata": {},
      "source": [
        "### ORDER BY - Sıralama\n"
      ]
    },
    {
      "cell_type": "markdown",
      "metadata": {},
      "source": [
        "**ORDER BY** sonuçları sıralar.\n",
        "\n",
        "**Söz Dizimi:**\n",
        "- `ORDER BY column ASC` : Küçükten büyüğe (A-Z, 0-9) - varsayılan\n",
        "- `ORDER BY column DESC` : Büyükten küçüğe (Z-A, 9-0)\n",
        "- Çoklu sıralama: `ORDER BY column1 DESC, column2 ASC`\n",
        "\n",
        "**İpucu:** ORDER BY her zaman sorgunun en sonunda gelir.\n"
      ]
    },
    {
      "cell_type": "code",
      "execution_count": null,
      "metadata": {},
      "outputs": [],
      "source": [
        "%%sql\n",
        "\n",
        "-- En pahalı ürünler\n",
        "SELECT product_name, brand, price\n",
        "FROM products\n",
        "ORDER BY price DESC\n",
        "LIMIT 10\n"
      ]
    },
    {
      "cell_type": "markdown",
      "metadata": {},
      "source": [
        "### WHERE - Filtreleme\n"
      ]
    },
    {
      "cell_type": "markdown",
      "metadata": {},
      "source": [
        "\n",
        "\n",
        "**WHERE** kelimesi SQL'de \"hangi satırları istiyorum?\" sorusuna cevap verir.\n",
        "\n",
        "**WHERE kullanım alanları:**\n",
        "- Belirli bir müşteriyi bul\n",
        "- Belirli tarih aralığındaki siparişleri getir\n",
        "- Belirli fiyat aralığındaki ürünleri listele\n",
        "- Belirli şehirdeki kullanıcıları say\n"
      ]
    },
    {
      "cell_type": "code",
      "execution_count": null,
      "metadata": {},
      "outputs": [],
      "source": [
        "%%sql\n",
        "\n",
        "SELECT first_name, last_name, city \n",
        "FROM customers\n",
        "WHERE city = 'İstanbul'\n",
        "LIMIT 10\n"
      ]
    },
    {
      "cell_type": "markdown",
      "metadata": {},
      "source": [
        "**Karşılaştırma operatörleri:**\n",
        "- `=` : Eşittir\n",
        "- `!=` veya `<>` : Eşit değildir\n",
        "- `>` : Büyüktür\n",
        "- `<` : Küçüktür\n",
        "- `>=` : Büyük eşittir\n",
        "- `<=` : Küçük eşittir\n",
        "- `BETWEEN` : Aralık\n",
        "- `IN` : Liste içinde\n",
        "- `LIKE` : Metin eşleştirme\n"
      ]
    },
    {
      "cell_type": "code",
      "execution_count": null,
      "metadata": {},
      "outputs": [],
      "source": [
        "%%sql\n",
        "\n",
        "SELECT product_name, brand, price \n",
        "FROM products\n",
        "WHERE price > 10000\n",
        "ORDER BY price DESC\n",
        "LIMIT 10\n"
      ]
    },
    {
      "cell_type": "code",
      "execution_count": null,
      "metadata": {},
      "outputs": [],
      "source": [
        "%%sql\n",
        "\n",
        "SELECT first_name, last_name, email\n",
        "FROM customers\n",
        "WHERE first_name LIKE 'A%'\n",
        "LIMIT 10"
      ]
    },
    {
      "cell_type": "markdown",
      "metadata": {},
      "source": [
        "**Mantıksal Operatörler:**\n",
        "\n",
        "```sql\n",
        "-- AND: Her iki koşul sağlanmalı\n",
        "WHERE brand = 'Apple' AND price > 5000\n",
        "\n",
        "-- OR: En az bir koşul sağlanmalı\n",
        "WHERE brand = 'Apple' OR brand = 'Samsung'\n",
        "\n",
        "-- Kombinasyon: Parantez kullanımı\n",
        "WHERE (brand = 'Apple' OR brand = 'Samsung') AND price > 5000\n",
        "```\n",
        "\n",
        "- `AND` : Tüm koşullar true\n",
        "- `OR` : En az bir koşul true\n",
        "- `NOT` : Koşul negasyonu\n"
      ]
    },
    {
      "cell_type": "code",
      "execution_count": null,
      "metadata": {},
      "outputs": [],
      "source": [
        "%%sql\n",
        "\n",
        "SELECT product_name, brand, price \n",
        "FROM products\n",
        "WHERE brand = 'Apple' AND price > 5000\n"
      ]
    },
    {
      "cell_type": "markdown",
      "metadata": {},
      "source": [
        "### WHERE - IN Operatörü\n"
      ]
    },
    {
      "cell_type": "markdown",
      "metadata": {},
      "source": [
        "**IN** operatörü bir listte içinde arama yapar. Çoklu `OR` yerine kullanılır.\n",
        "\n",
        "```sql\n",
        "-- Yerine: WHERE city = 'İstanbul' OR city = 'Ankara' OR city = 'İzmir'\n",
        "WHERE city IN ('İstanbul', 'Ankara', 'İzmir')\n",
        "```\n",
        "\n",
        "**Avantajları:**\n",
        "- Daha okunabilir kod\n",
        "- Daha az tekrar\n",
        "- Performans avantajı (bazı durumlarda)\n"
      ]
    },
    {
      "cell_type": "code",
      "execution_count": null,
      "metadata": {},
      "outputs": [],
      "source": [
        "%%sql\n",
        "\n",
        "-- Belirli markaların ürünleri\n",
        "SELECT product_name, brand, price\n",
        "FROM products\n",
        "WHERE brand IN ('Apple', 'Samsung', 'Xiaomi')\n",
        "ORDER BY brand, price DESC\n",
        "LIMIT 15\n"
      ]
    },
    {
      "cell_type": "markdown",
      "metadata": {},
      "source": [
        "### WHERE - BETWEEN Operatörü\n"
      ]
    },
    {
      "cell_type": "markdown",
      "metadata": {},
      "source": [
        "**BETWEEN** bir aralık kontrolü yapar (başlangıç ve bitiş dahil).\n",
        "\n",
        "```sql\n",
        "-- Yerine: WHERE price >= 1000 AND price <= 5000\n",
        "WHERE price BETWEEN 1000 AND 5000\n",
        "```\n",
        "\n",
        "**Dikkat:** BETWEEN dahildir (inclusive) - 1000 ve 5000 de sonuca dahildir.\n"
      ]
    },
    {
      "cell_type": "code",
      "execution_count": null,
      "metadata": {},
      "outputs": [],
      "source": [
        "%%sql\n",
        "\n",
        "-- Orta segment fiyat aralığındaki ürünler\n",
        "SELECT product_name, brand, price\n",
        "FROM products\n",
        "WHERE price BETWEEN 1000 AND 5000\n",
        "ORDER BY price\n",
        "LIMIT 15\n"
      ]
    },
    {
      "cell_type": "markdown",
      "metadata": {},
      "source": [
        "### NULL Değerler - IS NULL / IS NOT NULL\n"
      ]
    },
    {
      "cell_type": "markdown",
      "metadata": {},
      "source": [
        "**NULL** \"bilinmeyen\" veya \"mevcut değil\" anlamına gelir.\n",
        "\n",
        "**Önemli:** NULL kontrolü için `=` kullanılamaz! `IS NULL` veya `IS NOT NULL` kullanılmalı.\n",
        "\n",
        "```sql\n",
        "-- YANLIŞ: WHERE campaign_id = NULL\n",
        "-- DOĞRU: WHERE campaign_id IS NULL\n",
        "```\n",
        "\n",
        "**Gerçek Hayat:**\n",
        "- Kampanyasız siparişler: `campaign_id IS NULL`\n",
        "- Ana kategoriler: `parent_category_id IS NULL`\n"
      ]
    },
    {
      "cell_type": "code",
      "execution_count": null,
      "metadata": {},
      "outputs": [],
      "source": [
        "%%sql\n",
        "\n",
        "-- Ana kategorileri bul (alt kategorisi olmayan)\n",
        "SELECT category_id, category_name, parent_category_id\n",
        "FROM categories\n",
        "WHERE parent_category_id IS NULL\n"
      ]
    },
    {
      "cell_type": "markdown",
      "metadata": {},
      "source": [
        "---\n",
        "## Agregasyon Fonksiyonları\n",
        "\n",
        "Çok sayıda satırı tek bir değere indirgeme (aggregation).\n",
        "\n",
        "**Fonksiyonlar:**\n",
        "- `COUNT(*)` : Toplam satır sayısı\n",
        "- `SUM(column)` : Toplam\n",
        "- `AVG(column)` : Ortalama\n",
        "- `MIN(column)` / `MAX(column)` : Minimum/Maximum\n",
        "- `COUNT(DISTINCT column)` : Benzersiz değer sayısı\n",
        "\n",
        "**Kullanım Senaryoları:**\n",
        "- KPI hesaplamaları\n",
        "- Summary statistics\n",
        "- Reporting ve dashboard'lar\n"
      ]
    },
    {
      "cell_type": "markdown",
      "metadata": {},
      "source": [
        "\n",
        "### COUNT - Kayıt Sayısı\n"
      ]
    },
    {
      "cell_type": "code",
      "execution_count": null,
      "metadata": {},
      "outputs": [],
      "source": [
        "%%sql\n",
        "\n",
        "SELECT COUNT(*) as toplam_musteri\n",
        "FROM customers\n"
      ]
    },
    {
      "cell_type": "markdown",
      "metadata": {},
      "source": [
        "### SUM ve AVG - Toplam ve Ortalama\n"
      ]
    },
    {
      "cell_type": "code",
      "execution_count": null,
      "metadata": {},
      "outputs": [],
      "source": [
        "%%sql\n",
        "\n",
        "SELECT \n",
        "    SUM(total_amount) as toplam_ciro,\n",
        "    AVG(total_amount) as ortalama_sepet,\n",
        "    MIN(total_amount) as en_dusuk,\n",
        "    MAX(total_amount) as en_yuksek\n",
        "FROM orders\n",
        "WHERE order_status = 'teslim_edildi'\n"
      ]
    },
    {
      "cell_type": "markdown",
      "metadata": {},
      "source": [
        "---\n",
        "## GROUP BY - Gruplama ve Özetleme\n",
        "\n",
        "Satırları kategorilere ayırma ve her kategori için agregasyon hesaplama.\n"
      ]
    },
    {
      "cell_type": "code",
      "execution_count": null,
      "metadata": {},
      "outputs": [],
      "source": [
        "%%sql\n",
        "\n",
        "SELECT city, COUNT(*) as musteri_sayisi\n",
        "FROM customers\n",
        "GROUP BY city\n",
        "ORDER BY musteri_sayisi DESC\n",
        "LIMIT 10\n"
      ]
    },
    {
      "cell_type": "markdown",
      "metadata": {},
      "source": [
        "### GROUP BY - Çoklu Agregasyon\n"
      ]
    },
    {
      "cell_type": "code",
      "execution_count": null,
      "metadata": {},
      "outputs": [],
      "source": [
        "%%sql\n",
        "\n",
        "SELECT \n",
        "    order_status, \n",
        "    COUNT(*) as siparis_sayisi,\n",
        "    SUM(total_amount) as toplam_tutar,\n",
        "    AVG(total_amount) as ortalama_tutar\n",
        "FROM orders\n",
        "GROUP BY order_status\n",
        "ORDER BY siparis_sayisi DESC\n"
      ]
    },
    {
      "cell_type": "markdown",
      "metadata": {},
      "source": [
        "### HAVING - Gruplar Üzerinde Filtreleme\n"
      ]
    },
    {
      "cell_type": "code",
      "execution_count": null,
      "metadata": {},
      "outputs": [],
      "source": [
        "%%sql\n",
        "\n",
        "SELECT city, COUNT(*) as musteri_sayisi\n",
        "FROM customers\n",
        "GROUP BY city\n",
        "HAVING COUNT(*) > 100\n",
        "ORDER BY musteri_sayisi DESC\n"
      ]
    },
    {
      "cell_type": "markdown",
      "metadata": {},
      "source": [
        "### CASE WHEN - Koşullu Mantık"
      ]
    },
    {
      "cell_type": "code",
      "execution_count": null,
      "metadata": {},
      "outputs": [],
      "source": [
        "%%sql\n",
        "\n",
        "SELECT \n",
        "    product_name,\n",
        "    price,\n",
        "    CASE \n",
        "        WHEN price < 100 THEN 'Ucuz'\n",
        "        WHEN price BETWEEN 100 AND 1000 THEN 'Orta'\n",
        "        WHEN price BETWEEN 1000 AND 5000 THEN 'Pahalı'\n",
        "        ELSE 'Çok Pahalı'\n",
        "    END as fiyat_kategorisi\n",
        "FROM products\n",
        "LIMIT 15\n"
      ]
    },
    {
      "cell_type": "markdown",
      "metadata": {},
      "source": [
        "\n",
        "## JOIN İŞLEMLERİ\n",
        "\n",
        "<img src=\"assets/left_inner_join.png\" alt=\"join\" width=\"700\"/>\n",
        "\n",
        "\n",
        "İlişkisel veritabanlarında tabloları birleştirme mekanizması.\n",
        "\n",
        "\n",
        "**JOIN Türleri:**\n",
        "- **INNER JOIN**: Her iki tabloda eşleşen kayıtlar\n",
        "- **LEFT JOIN**: Sol tablo + eşleşenler (outer rows NULL)\n",
        "- **RIGHT JOIN**: Sağ tablo + eşleşenler\n",
        "- **FULL OUTER JOIN**: Her iki tablonun tüm kayıtları\n",
        "\n",
        "**Bu Eğitimde:** INNER ve LEFT JOIN kullanımı üzerinde durulacaktır.\n"
      ]
    },
    {
      "cell_type": "markdown",
      "metadata": {},
      "source": [
        "### INNER JOIN - İki Tabloyu Birleştirme\n"
      ]
    },
    {
      "cell_type": "code",
      "execution_count": null,
      "metadata": {},
      "outputs": [],
      "source": [
        "%%sql\n",
        "\n",
        "SELECT \n",
        "    p.product_name,\n",
        "    p.brand,\n",
        "    p.price,\n",
        "    c.category_name\n",
        "FROM products p\n",
        "INNER JOIN categories c ON p.category_id = c.category_id\n",
        "LIMIT 10\n"
      ]
    },
    {
      "cell_type": "markdown",
      "metadata": {},
      "source": [
        "### JOIN - Müşteri Siparişleri\n"
      ]
    },
    {
      "cell_type": "code",
      "execution_count": null,
      "metadata": {},
      "outputs": [],
      "source": [
        "%%sql\n",
        "\n",
        "select c.first_name, c.last_name, o.total_amount, o.order_date\n",
        "from customers c\n",
        "INNER JOIN orders o ON c.customer_id = o.customer_id\n",
        "where c.first_name = 'Okyalaz' and\tc.last_name = 'Bilgin'\n",
        "\n",
        "\n",
        "\n",
        "limit 10"
      ]
    },
    {
      "cell_type": "code",
      "execution_count": null,
      "metadata": {},
      "outputs": [],
      "source": [
        "%%sql\n",
        "\n",
        "SELECT \n",
        "    c.first_name,\n",
        "    c.last_name,\n",
        "    c.city,\n",
        "    o.order_id,\n",
        "    o.order_date,\n",
        "    o.total_amount\n",
        "FROM customers c\n",
        "INNER JOIN orders o ON c.customer_id = o.customer_id\n",
        "LIMIT 10\n"
      ]
    },
    {
      "cell_type": "markdown",
      "metadata": {},
      "source": [
        "**INNER JOIN vs LEFT JOIN:**\n",
        "\n",
        "- **INNER JOIN**: Sadece her iki tabloda da eşleşen kayıtlar\n",
        "- **LEFT JOIN**: Sol tablodaki TÜM kayıtlar + eşleşenler (eşleşmeyen sağ taraf NULL)\n",
        "\n",
        "**Kullanım Senaryoları:**\n",
        "- Hiç sipariş vermemiş müşterileri bul\n",
        "- Satılmamış ürünleri listele\n",
        "- Yorum almamış ürünleri göster\n"
      ]
    },
    {
      "cell_type": "markdown",
      "metadata": {},
      "source": [
        "### LEFT JOIN - Eşleşmeyen Kayıtları da Getirme\n"
      ]
    },
    {
      "cell_type": "code",
      "execution_count": null,
      "metadata": {},
      "outputs": [],
      "source": [
        "%%sql\n",
        "\n",
        "-- Hiç sipariş vermemiş müşterileri bul\n",
        "SELECT \n",
        "    c.customer_id,\n",
        "    c.first_name,\n",
        "    c.last_name,\n",
        "    c.city,\n",
        "    c.registration_date,\n",
        "    COUNT(o.order_id) as siparis_sayisi\n",
        "FROM customers c\n",
        "LEFT JOIN orders o ON c.customer_id = o.customer_id\n",
        "GROUP BY c.customer_id\n",
        "HAVING COUNT(o.order_id) = 0\n",
        "LIMIT 10\n"
      ]
    },
    {
      "cell_type": "markdown",
      "metadata": {},
      "source": [
        "### JOIN - Üç Tablo Birleştirme\n"
      ]
    },
    {
      "cell_type": "code",
      "execution_count": null,
      "metadata": {},
      "outputs": [],
      "source": [
        "%%sql\n",
        "\n",
        "SELECT \n",
        "    c.first_name || ' ' || c.last_name as musteri,\n",
        "    o.order_date,\n",
        "    p.product_name,\n",
        "    oi.quantity,\n",
        "    oi.unit_price\n",
        "FROM customers c\n",
        "JOIN orders o ON c.customer_id = o.customer_id\n",
        "JOIN order_items oi ON o.order_id = oi.order_id\n",
        "JOIN products p ON oi.product_id = p.product_id\n",
        "LIMIT 10\n"
      ]
    },
    {
      "cell_type": "markdown",
      "metadata": {},
      "source": [
        "## FONKSİYONLAR\n"
      ]
    },
    {
      "cell_type": "markdown",
      "metadata": {},
      "source": [
        "### Tarih Fonksiyonları\n"
      ]
    },
    {
      "cell_type": "markdown",
      "metadata": {},
      "source": [
        "**SQLite Tarih Fonksiyonları:**\n",
        "\n",
        "- `DATE('now')` : Bugünün tarihi\n",
        "- `DATETIME('now')` : Şu anki tarih ve saat\n",
        "- `strftime(format, date)` : Tarih formatlama\n",
        "  - `'%Y'` : Yıl (2024)\n",
        "  - `'%m'` : Ay (01-12)\n",
        "  - `'%d'` : Gün (01-31)\n",
        "  - `'%Y-%m'` : Yıl-Ay (2024-03)\n",
        "- `JULIANDAY(date)` : Tarih farkı hesaplama için\n",
        "\n",
        "**Gerçek Kullanım:** Aylık raporlar, müşteri yaşı, kayıt süresi\n"
      ]
    },
    {
      "cell_type": "code",
      "execution_count": null,
      "metadata": {},
      "outputs": [],
      "source": [
        "%%sql\n",
        "\n",
        "SELECT \n",
        "    customer_id,\n",
        "    first_name,\n",
        "    registration_date,\n",
        "    strftime('%Y', registration_date) as kayit_yili,\n",
        "    strftime('%m', registration_date) as kayit_ayi,\n",
        "    ROUND(JULIANDAY('now') - JULIANDAY(registration_date), 0) as uyelik_gun_sayisi,\n",
        "    ROUND((JULIANDAY('now') - JULIANDAY(registration_date)) / 365.0, 1) as uyelik_yil\n",
        "FROM customers\n",
        "ORDER BY registration_date\n",
        "LIMIT 10\n"
      ]
    },
    {
      "cell_type": "markdown",
      "metadata": {},
      "source": [
        "### String Fonksiyonları\n"
      ]
    },
    {
      "cell_type": "markdown",
      "metadata": {},
      "source": [
        "**Temel String Fonksiyonları:**\n",
        "\n",
        "- `UPPER(text)` : Büyük harfe çevir\n",
        "- `LOWER(text)` : Küçük harfe çevir\n",
        "- `LENGTH(text)` : Karakter sayısı\n",
        "- `SUBSTR(text, start, length)` : Alt string al\n",
        "- `||` : String birleştirme (concatenation)\n",
        "- `TRIM(text)` : Baş ve sondaki boşlukları kaldır\n",
        "- `REPLACE(text, old, new)` : Değiştir\n"
      ]
    },
    {
      "cell_type": "code",
      "execution_count": null,
      "metadata": {},
      "outputs": [],
      "source": [
        "%%sql\n",
        "\n",
        "SELECT \n",
        "    first_name,\n",
        "    last_name,\n",
        "    first_name || ' ' || last_name as tam_isim,\n",
        "    UPPER(email) as email_buyuk,\n",
        "    LENGTH(first_name) as isim_uzunlugu,\n",
        "    SUBSTR(email, 1, 3) as email_kisaltma\n",
        "FROM customers\n",
        "LIMIT 10\n"
      ]
    },
    {
      "cell_type": "markdown",
      "metadata": {},
      "source": [
        "### Sayısal Fonksiyonlar\n"
      ]
    },
    {
      "cell_type": "markdown",
      "metadata": {},
      "source": [
        "**Temel Sayısal Fonksiyonlar:**\n",
        "\n",
        "- `ROUND(number, decimals)` : Yuvarlama\n",
        "- `ABS(number)` : Mutlak değer\n",
        "- `CAST(value AS type)` : Tip dönüşümü\n",
        "- Aritmetik: `+`, `-`, `*`, `/`, `%` (mod)\n",
        "\n",
        "**İpucu:** SQLite'ta `CEIL` ve `FLOOR` yok, `ROUND` kullanın.\n"
      ]
    },
    {
      "cell_type": "code",
      "execution_count": null,
      "metadata": {},
      "outputs": [],
      "source": [
        "%%sql\n",
        "\n",
        "SELECT \n",
        "    product_name,\n",
        "    price,\n",
        "    ROUND(price, 0) as yuvarlanmis_fiyat,\n",
        "    ROUND(price * 1.20, 2) as kdv_dahil_fiyat,\n",
        "    CAST(price AS INTEGER) as tam_sayi_fiyat\n",
        "FROM products\n",
        "WHERE price > 1000\n",
        "LIMIT 10\n"
      ]
    },
    {
      "cell_type": "markdown",
      "metadata": {},
      "source": [
        "\n",
        "## ALT SORGULAR (SUBQUERIES)\n"
      ]
    },
    {
      "cell_type": "markdown",
      "metadata": {},
      "source": [
        "### Alt Sorgu - WHERE İçinde\n"
      ]
    },
    {
      "cell_type": "code",
      "execution_count": null,
      "metadata": {},
      "outputs": [],
      "source": [
        "%%sql\n",
        "\n",
        "SELECT product_name, price\n",
        "FROM products\n",
        "WHERE price > (SELECT AVG(price) FROM products)\n",
        "ORDER BY price DESC\n",
        "LIMIT 10\n"
      ]
    },
    {
      "cell_type": "markdown",
      "metadata": {},
      "source": [
        "## GERÇEK İŞ SENARYOLARI\n"
      ]
    },
    {
      "cell_type": "markdown",
      "metadata": {},
      "source": [
        "### CASE 1: En Karlı Kategoriler - Yatırım Kararı\n",
        "**Senaryo:** Genel müdür sizi ofisine çağırdı: \"2026 bütçesini planlıyoruz. Hangi ürün kategorilerine daha fazla yatırım yapmalıyız? Her kategorinin satış performansını, kaç ürün sattığımızı ve ne kadar gelir getirdiğini görmek istiyorum. Haftaya yönetim kurulu toplantısında sunacağım.\"\n",
        "\n",
        "**Analiz Hedefi:** Her kategori için ürün sayısı, toplam sipariş sayısı, toplam gelir ve ortalama satış tutarı hesaplayarak yatırım önceliklendirmesi için rapor hazırlamak.\n"
      ]
    },
    {
      "cell_type": "code",
      "execution_count": null,
      "metadata": {},
      "outputs": [],
      "source": [
        "%%sql\n",
        "\n",
        "SELECT \n",
        "    c.category_name,\n",
        "    COUNT(DISTINCT p.product_id) as urun_sayisi,\n",
        "    COUNT(DISTINCT oi.order_id) as siparis_sayisi,\n",
        "    SUM(oi.quantity * oi.unit_price * (1 - oi.discount_rate/100)) as toplam_gelir,\n",
        "    ROUND(AVG(oi.quantity * oi.unit_price * (1 - oi.discount_rate/100)), 2) as ortalama_satis\n",
        "FROM categories c\n",
        "JOIN products p ON c.category_id = p.category_id\n",
        "JOIN order_items oi ON p.product_id = oi.product_id\n",
        "WHERE c.parent_category_id IS NOT NULL\n",
        "GROUP BY c.category_id, c.category_name\n",
        "ORDER BY toplam_gelir DESC\n",
        "LIMIT 10\n"
      ]
    },
    {
      "cell_type": "markdown",
      "metadata": {},
      "source": [
        "### CASE 2: Müşteri Segmentleri - Pazarlama Kampanyası\n",
        "**Senaryo:** Pazarlama müdürü size mail attı: \"Yeni yıl kampanyası planlıyoruz. Her müşteri segmentimiz için (Platinum, Gold, Silver, Bronze) ayrı kampanya tasarlayacağız. Bana her segmentin kaç müşteriden oluştuğunu, ortalama ne kadar harcama yaptıklarını ve toplam cirodaki paylarını gösterir misin? Bütçeyi buna göre ayarlayacağım.\"\n",
        "\n",
        "**Analiz Hedefi:** Her segment için müşteri sayısı, toplam sipariş, ortalama sepet tutarı ve müşteri başına ciro hesaplayarak kampanya bütçe dağılımı için veri sağlamak.\n"
      ]
    },
    {
      "cell_type": "code",
      "execution_count": null,
      "metadata": {},
      "outputs": [],
      "source": [
        "%%sql\n",
        "\n",
        "SELECT \n",
        "    c.customer_segment,\n",
        "    COUNT(DISTINCT c.customer_id) as musteri_sayisi,\n",
        "    COUNT(o.order_id) as toplam_siparis,\n",
        "    ROUND(AVG(o.total_amount), 2) as ortalama_sepet,\n",
        "    SUM(CASE WHEN o.order_status = 'teslim_edildi' THEN o.total_amount ELSE 0 END) as toplam_ciro,\n",
        "    ROUND(SUM(CASE WHEN o.order_status = 'teslim_edildi' THEN o.total_amount ELSE 0 END) / \n",
        "          COUNT(DISTINCT c.customer_id), 2) as musteri_basina_ciro\n",
        "FROM customers c\n",
        "LEFT JOIN orders o ON c.customer_id = o.customer_id\n",
        "GROUP BY c.customer_segment\n",
        "ORDER BY toplam_ciro DESC\n"
      ]
    },
    {
      "cell_type": "markdown",
      "metadata": {},
      "source": [
        "### CASE 3: Kampanya Performansı - ROI Analizi\n",
        "**Senaryo:** CFO toplantıda sert çıktı: \"Geçen çeyrekte 5 farklı kampanya yaptık. Hangisi gerçekten işe yaradı? Her kampanyada kaç sipariş aldık, toplam ne kadar gelir yarattık ve ortalama sipariş tutarı neydi? Bir dahaki sefer sadece karlı kampanyalara para harcayacağız.\"\n",
        "\n",
        "**Analiz Hedefi:** Her kampanya için sipariş sayısı, toplam ciro, ortalama sepet tutarı ve dönüşüm oranı hesaplayarak kampanya ROI karşılaştırması yapmak.\n"
      ]
    },
    {
      "cell_type": "code",
      "execution_count": null,
      "metadata": {},
      "outputs": [],
      "source": [
        "%%sql\n",
        "\n",
        "SELECT \n",
        "    c.campaign_name,\n",
        "    c.discount_rate,\n",
        "    COUNT(o.order_id) as kullanilan_siparis,\n",
        "    ROUND(SUM(o.total_amount), 2) as kampanya_cirosi,\n",
        "    ROUND(AVG(o.total_amount), 2) as ortalama_sepet\n",
        "FROM campaigns c\n",
        "LEFT JOIN orders o ON c.campaign_id = o.campaign_id\n",
        "WHERE o.order_status = 'teslim_edildi'\n",
        "GROUP BY c.campaign_id, c.campaign_name, c.discount_rate\n",
        "ORDER BY kampanya_cirosi DESC\n"
      ]
    },
    {
      "cell_type": "markdown",
      "metadata": {},
      "source": [
        "### CASE 4: Şehir Bazlı Satışlar - Lojistik Yatırımı\n",
        "**Senaryo:** Operasyon müdürü WhatsApp'tan yazdı: \"Yeni depo açmayı düşünüyoruz. Hangi şehirlerde daha fazla müşterimiz var? Hangi şehirlerden en çok sipariş alıyoruz? Toplam ciro bazında ilk 10 şehri ve ortalama sepet tutarlarını at bana, sunum hazırlayacağım.\"\n",
        "\n",
        "**Analiz Hedefi:** Şehir bazlı müşteri sayısı, toplam sipariş, ortalama sepet değeri ve toplam ciro hesaplayarak depo/lojistik merkezi yatırım kararı için analiz sunmak.\n"
      ]
    },
    {
      "cell_type": "code",
      "execution_count": null,
      "metadata": {},
      "outputs": [],
      "source": [
        "%%sql\n",
        "\n",
        "SELECT \n",
        "    c.city,\n",
        "    COUNT(DISTINCT c.customer_id) as musteri_sayisi,\n",
        "    COUNT(o.order_id) as siparis_sayisi,\n",
        "    SUM(CASE WHEN o.order_status = 'teslim_edildi' THEN o.total_amount ELSE 0 END) as toplam_ciro,\n",
        "    ROUND(AVG(CASE WHEN o.order_status = 'teslim_edildi' THEN o.total_amount END), 2) as ortalama_siparis,\n",
        "    SUM(CASE WHEN c.customer_segment = 'platinum' THEN 1 ELSE 0 END) as platinum_musteri\n",
        "FROM customers c\n",
        "LEFT JOIN orders o ON c.customer_id = o.customer_id\n",
        "GROUP BY c.city\n",
        "ORDER BY toplam_ciro DESC\n",
        "LIMIT 10\n"
      ]
    },
    {
      "cell_type": "markdown",
      "metadata": {},
      "source": [
        "### CASE 5: Çok Satan vs Az Satan Ürünler - Stok Optimizasyonu\n",
        "**Senaryo:** Tedarik zinciri müdürü acil aradı: \"Depomuz doldu, yer açmamız lazım. Hangi ürünler çok satıyor, hangiler rafta duruyor? En çok satan 20 ürünü, her birinden kaç tane sattığımızı, toplam ne kadar kazandırdığını ve ortalama fiyatını çıkar. Ayrıca hangi markalar bizde iyi gidiyor?\"\n",
        "\n",
        "**Analiz Hedefi:** Ürün bazlı satış miktarı, toplam gelir, ortalama fiyat ve marka performansı hesaplayarak stok yönetimi ve tedarik kararları için veri sağlamak.\n"
      ]
    },
    {
      "cell_type": "code",
      "execution_count": null,
      "metadata": {},
      "outputs": [],
      "source": [
        "%%sql\n",
        "\n",
        "SELECT \n",
        "    p.product_name,\n",
        "    p.brand,\n",
        "    p.stock_quantity as mevcut_stok,\n",
        "    COUNT(oi.item_id) as satilan_adet,\n",
        "    SUM(oi.quantity) as toplam_satis,\n",
        "    ROUND(SUM(oi.quantity * oi.unit_price * (1 - oi.discount_rate/100)), 2) as toplam_gelir,\n",
        "    CASE \n",
        "        WHEN p.stock_quantity = 0 THEN 'Stokta Yok - Acil'\n",
        "        WHEN p.stock_quantity < 50 THEN 'Düşük Stok'\n",
        "        WHEN p.stock_quantity < 200 THEN 'Normal'\n",
        "        ELSE 'Yüksek Stok'\n",
        "    END as stok_durumu\n",
        "FROM products p\n",
        "LEFT JOIN order_items oi ON p.product_id = oi.product_id\n",
        "GROUP BY p.product_id, p.product_name, p.brand, p.stock_quantity\n",
        "ORDER BY toplam_satis DESC\n",
        "LIMIT 15\n"
      ]
    },
    {
      "cell_type": "markdown",
      "metadata": {},
      "source": [
        "### CASE 6: Kaybettiğimiz Müşteriler - Geri Kazanma Kampanyası\n",
        "**Senaryo:** CRM müdürü panik halinde: \"Müşteri kaybediyoruz! Hangi müşteriler uzun süredir sipariş vermiyor? En az 1 kez sipariş vermiş ama son 6 ayda hiç sipariş vermemiş müşterileri bul. Her birinin son sipariş tarihinden bu yana kaç gün geçtiğini, toplam kaç sipariş verdiğini ve ne kadar harcama yaptığını göster. Geri kazanma kampanyası yapacağız.\"\n",
        "\n",
        "**Analiz Hedefi:** İnaktif müşterileri tespit ederek son sipariş tarihi, sipariş sıklığı ve toplam harcama bilgilerini çıkarmak, risk seviyesine göre kategorize etmek.\n"
      ]
    },
    {
      "cell_type": "code",
      "execution_count": null,
      "metadata": {},
      "outputs": [],
      "source": [
        "%%sql\n",
        "\n",
        "SELECT \n",
        "    c.customer_id,\n",
        "    c.first_name || ' ' || c.last_name as musteri,\n",
        "    c.customer_segment,\n",
        "    COUNT(o.order_id) as siparis_sayisi,\n",
        "    MAX(o.order_date) as son_siparis_tarihi,\n",
        "    ROUND(JULIANDAY('now') - JULIANDAY(MAX(o.order_date)), 0) as son_siparisten_gecen_gun,\n",
        "    SUM(CASE WHEN o.order_status = 'teslim_edildi' THEN o.total_amount ELSE 0 END) as toplam_harcama,\n",
        "    CASE \n",
        "        WHEN JULIANDAY('now') - JULIANDAY(MAX(o.order_date)) > 180 THEN 'Yüksek Risk'\n",
        "        WHEN JULIANDAY('now') - JULIANDAY(MAX(o.order_date)) > 90 THEN 'Orta Risk'\n",
        "        ELSE 'Aktif'\n",
        "    END as churn_riski\n",
        "FROM customers c\n",
        "LEFT JOIN orders o ON c.customer_id = o.customer_id\n",
        "GROUP BY c.customer_id\n",
        "HAVING COUNT(o.order_id) > 0\n",
        "ORDER BY son_siparisten_gecen_gun DESC\n",
        "LIMIT 20\n"
      ]
    },
    {
      "cell_type": "markdown",
      "metadata": {},
      "source": [
        "### CASE 7: Ödeme Yöntemleri - İptal Oranı Analizi\n",
        "**Senaryo:** Finans müdürü endişeli: \"Kredi kartıyla ödeme yapılan siparişlerde çok iptal oluyor gibi. Her ödeme yönteminde kaç sipariş var, kaç tanesi iptal edildi, iptal oranı ne? Ayrıca hangi ödeme yöntemi daha karlı - ortalama sepet tutarlarını da karşılaştır. Belki bazı ödeme yöntemlerinde indirim yapmalıyız.\"\n",
        "\n",
        "**Analiz Hedefi:** Ödeme yöntemi bazlı toplam sipariş, iptal edilen sipariş, iptal oranı, başarı oranı ve ortalama sepet tutarı hesaplayarak ödeme stratejisi geliştirmek.\n"
      ]
    },
    {
      "cell_type": "code",
      "execution_count": null,
      "metadata": {},
      "outputs": [],
      "source": [
        "%%sql\n",
        "\n",
        "SELECT \n",
        "    payment_method,\n",
        "    COUNT(*) as toplam_siparis,\n",
        "    SUM(CASE WHEN order_status = 'teslim_edildi' THEN 1 ELSE 0 END) as basarili,\n",
        "    SUM(CASE WHEN order_status = 'iptal' THEN 1 ELSE 0 END) as iptal,\n",
        "    ROUND(100.0 * SUM(CASE WHEN order_status = 'teslim_edildi' THEN 1 ELSE 0 END) / COUNT(*), 2) as basari_orani,\n",
        "    ROUND(SUM(CASE WHEN order_status = 'teslim_edildi' THEN total_amount ELSE 0 END), 2) as toplam_ciro,\n",
        "    ROUND(AVG(CASE WHEN order_status = 'teslim_edildi' THEN total_amount END), 2) as ortalama_sepet\n",
        "FROM orders\n",
        "GROUP BY payment_method\n",
        "ORDER BY toplam_ciro DESC\n"
      ]
    },
    {
      "cell_type": "markdown",
      "metadata": {},
      "source": [
        "### CASE 8: Kötü Yorumlar - Ürün Kalite Problemi\n",
        "**Senaryo:** Ürün müdürü sinirliymiş: \"Müşteri şikayetleri artıyor. Hangi ürünler kötü yorum alıyor? 3 yıldız ve altında ortalamaya sahip ürünleri bul. Her ürünün ortalama puanını, kaç yorum aldığını, kaç tanesi kötü (1-2 yıldız) göster. Tedarikçilerle konuşmam gerekebilir.\"\n",
        "\n",
        "**Analiz Hedefi:** Ürün bazlı ortalama puan, toplam yorum sayısı ve kötü yorum oranı hesaplayarak kalite sorunlu ürünleri tespit etmek, iyileştirme önceliklendirmesi yapmak.\n"
      ]
    },
    {
      "cell_type": "code",
      "execution_count": null,
      "metadata": {},
      "outputs": [],
      "source": [
        "%%sql\n",
        "\n",
        "SELECT \n",
        "    p.product_name,\n",
        "    p.brand,\n",
        "    c.category_name,\n",
        "    COUNT(r.review_id) as yorum_sayisi,\n",
        "    ROUND(AVG(r.rating), 2) as ortalama_puan,\n",
        "    SUM(CASE WHEN r.rating = 5 THEN 1 ELSE 0 END) as dort_bes_yildiz,\n",
        "    SUM(CASE WHEN r.rating <= 2 THEN 1 ELSE 0 END) as kotu_yorum,\n",
        "    CASE \n",
        "        WHEN AVG(r.rating) >= 4.5 THEN 'Mükemmel'\n",
        "        WHEN AVG(r.rating) >= 3.5 THEN 'İyi'\n",
        "        WHEN AVG(r.rating) >= 2.5 THEN 'Orta'\n",
        "        ELSE 'Kötü - Aksiyon Gerekli'\n",
        "    END as urun_durumu\n",
        "FROM products p\n",
        "JOIN categories c ON p.category_id = c.category_id\n",
        "JOIN reviews r ON p.product_id = r.product_id\n",
        "GROUP BY p.product_id, p.product_name, p.brand, c.category_name\n",
        "HAVING COUNT(r.review_id) >= 5\n",
        "ORDER BY ortalama_puan ASC, kotu_yorum DESC\n",
        "LIMIT 15\n"
      ]
    },
    {
      "cell_type": "markdown",
      "metadata": {},
      "source": [
        "### CASE 9: Aylık Satış Trendi - Büyüme Raporu\n",
        "**Senaryo:** CEO çeyrek sonu toplantısına hazırlanıyor: \"Yönetim kuruluna sunacağım. Son 12 ayda her ay kaç sipariş aldık, toplam ciro ne oldu, ortalama sepet tutarı nasıl değişti? Aylara göre sırala, grafiğini çizeceğim. Büyüyoruz değil mi?\"\n",
        "\n",
        "**Analiz Hedefi:** Aylık bazda sipariş sayısı, toplam ciro, ortalama sepet tutarı ve bir önceki aya göre büyüme oranlarını hesaplayarak şirketin büyüme trendini ve mevsimsellik etkilerini göstermek.\n"
      ]
    },
    {
      "cell_type": "code",
      "execution_count": null,
      "metadata": {},
      "outputs": [],
      "source": [
        "%%sql\n",
        "\n",
        "SELECT \n",
        "    strftime('%Y-%m', order_date) as ay,\n",
        "    COUNT(*) as siparis_sayisi,\n",
        "    COUNT(DISTINCT customer_id) as aktif_musteri,\n",
        "    SUM(CASE WHEN order_status = 'teslim_edildi' THEN total_amount ELSE 0 END) as toplam_ciro,\n",
        "    ROUND(AVG(CASE WHEN order_status = 'teslim_edildi' THEN total_amount END), 2) as ortalama_sepet\n",
        "FROM orders\n",
        "GROUP BY ay\n",
        "ORDER BY ay\n"
      ]
    },
    {
      "cell_type": "markdown",
      "metadata": {},
      "source": [
        "### CASE 10: VIP Müşteriler - Özel İlgi Programı\n",
        "**Senaryo:** Pazarlama direktörü heyecanlı: \"VIP müşteri programı başlatıyoruz! RFM analizi yap: Her müşterinin son sipariş tarihi (Recency), kaç kez sipariş verdiği (Frequency) ve toplam ne kadar harcadığını (Monetary) hesapla. Sonra bunlara göre kategorize et: Champions, Loyal Customers, At Risk, Lost Customers gibi. En değerli 50 müşteriyi özel davet edeceğiz.\"\n",
        "\n",
        "**Analiz Hedefi:** Her müşteri için RFM skorları hesaplayarak müşteri davranış segmentleri oluşturmak, VIP müşterileri tespit etmek ve risk altındaki değerli müşterileri belirlemek.\n"
      ]
    },
    {
      "cell_type": "code",
      "execution_count": null,
      "metadata": {},
      "outputs": [],
      "source": [
        "%%sql\n",
        "\n",
        "WITH rfm_data AS (\n",
        "    SELECT \n",
        "        c.customer_id,\n",
        "        c.first_name || ' ' || c.last_name as musteri,\n",
        "        c.customer_segment,\n",
        "        JULIANDAY('now') - JULIANDAY(MAX(o.order_date)) as recency_gun,\n",
        "        COUNT(o.order_id) as frequency,\n",
        "        SUM(CASE WHEN o.order_status = 'teslim_edildi' THEN o.total_amount ELSE 0 END) as monetary\n",
        "    FROM customers c\n",
        "    LEFT JOIN orders o ON c.customer_id = o.customer_id\n",
        "    GROUP BY c.customer_id\n",
        "    HAVING COUNT(o.order_id) > 0\n",
        ")\n",
        "SELECT \n",
        "    musteri,\n",
        "    customer_segment,\n",
        "    ROUND(recency_gun, 0) as son_alisverisin_uzeri_gun,\n",
        "    frequency as siparis_sayisi,\n",
        "    ROUND(monetary, 2) as toplam_harcama,\n",
        "    CASE \n",
        "        WHEN recency_gun <= 30 AND frequency >= 5 AND monetary >= 10000 THEN 'Champions'\n",
        "        WHEN recency_gun <= 60 AND frequency >= 3 AND monetary >= 5000 THEN 'Loyal Customers'\n",
        "        WHEN recency_gun <= 90 AND frequency >= 2 THEN 'Potential Loyalists'\n",
        "        WHEN recency_gun > 180 AND frequency >= 3 THEN 'At Risk'\n",
        "        WHEN recency_gun > 180 THEN 'Lost Customers'\n",
        "        ELSE 'New/Promising'\n",
        "    END as rfm_segmenti\n",
        "FROM rfm_data\n",
        "ORDER BY monetary DESC\n",
        "LIMIT 20\n"
      ]
    },
    {
      "cell_type": "markdown",
      "metadata": {},
      "source": [
        "\n",
        "### İnteraktif SQL Pratik Platformları\n",
        "\n",
        "**1. W3Schools SQL Tutorial**  \n",
        "🔗 https://www.w3schools.com/sql/  \n",
        "\n",
        "**2. HackerRank SQL**  \n",
        "🔗 https://www.hackerrank.com/domains/sql  "
      ]
    }
  ],
  "metadata": {
    "kernelspec": {
      "display_name": "Python 3",
      "language": "python",
      "name": "python3"
    },
    "language_info": {
      "codemirror_mode": {
        "name": "ipython",
        "version": 3
      },
      "file_extension": ".py",
      "mimetype": "text/x-python",
      "name": "python",
      "nbconvert_exporter": "python",
      "pygments_lexer": "ipython3",
      "version": "3.10.6"
    }
  },
  "nbformat": 4,
  "nbformat_minor": 2
}
